{
 "cells": [
  {
   "cell_type": "code",
   "execution_count": 3,
   "id": "a3a29ff3",
   "metadata": {},
   "outputs": [],
   "source": [
    "import pandas as pd\n",
    "def export_data(year):\n",
    "    data_2020 = pd.read_csv(f'us-counties-{year}.csv')\n",
    "    data_2020['date'] = pd.to_datetime(data_2020['date'])\n",
    "    days_in_year = (data_2020['date'].max() - data_2020['date'].min()).days + 1\n",
    "    average_cases_per_day = data_2020.groupby(['county', 'state', 'fips']).cases.sum().reset_index()\n",
    "    average_cases_per_day['cases_per_day'] = average_cases_per_day['cases'] / days_in_year\n",
    "    average_cases_per_day.to_json(f'average_cases_per_day_{year}.json', orient='records')"
   ]
  },
  {
   "cell_type": "code",
   "execution_count": 4,
   "id": "a970f7ad",
   "metadata": {},
   "outputs": [],
   "source": [
    "for year in [2020, 2021, 2022]:\n",
    "    export_data(year)"
   ]
  },
  {
   "cell_type": "code",
   "execution_count": null,
   "id": "366ed2de",
   "metadata": {},
   "outputs": [],
   "source": []
  }
 ],
 "metadata": {
  "kernelspec": {
   "display_name": "Python 3 (ipykernel)",
   "language": "python",
   "name": "python3"
  },
  "language_info": {
   "codemirror_mode": {
    "name": "ipython",
    "version": 3
   },
   "file_extension": ".py",
   "mimetype": "text/x-python",
   "name": "python",
   "nbconvert_exporter": "python",
   "pygments_lexer": "ipython3",
   "version": "3.11.5"
  }
 },
 "nbformat": 4,
 "nbformat_minor": 5
}
